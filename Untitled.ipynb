{
 "cells": [
  {
   "cell_type": "code",
   "execution_count": 1,
   "id": "2fc57a0a-1501-4721-9e9c-a75425c8d2c4",
   "metadata": {},
   "outputs": [],
   "source": [
    "api_key = \"RGAPI-f33bd562-4572-49f5-b6b6-3d4d4bce5fba\""
   ]
  },
  {
   "cell_type": "code",
   "execution_count": 2,
   "id": "ff08e393-c0c8-4b26-83fa-ed796fce0489",
   "metadata": {},
   "outputs": [
    {
     "data": {
      "text/plain": [
       "'RGAPI-f33bd562-4572-49f5-b6b6-3d4d4bce5fba'"
      ]
     },
     "execution_count": 2,
     "metadata": {},
     "output_type": "execute_result"
    }
   ],
   "source": [
    "api_key"
   ]
  },
  {
   "cell_type": "code",
   "execution_count": 3,
   "id": "baf027b1-49e3-4142-bc71-7c3fac644138",
   "metadata": {},
   "outputs": [],
   "source": [
    "region = \"AP\""
   ]
  },
  {
   "cell_type": "code",
   "execution_count": 4,
   "id": "45cf67cf-834e-4e79-9abe-0c778bb29285",
   "metadata": {},
   "outputs": [
    {
     "data": {
      "text/plain": [
       "'AP'"
      ]
     },
     "execution_count": 4,
     "metadata": {},
     "output_type": "execute_result"
    }
   ],
   "source": [
    "region\n"
   ]
  },
  {
   "cell_type": "code",
   "execution_count": 5,
   "id": "22f671cb-315c-40ab-bcff-454e57f44f8d",
   "metadata": {},
   "outputs": [
    {
     "data": {
      "text/plain": [
       "\u001b[1;31mType:\u001b[0m        str\n",
       "\u001b[1;31mString form:\u001b[0m RGAPI-f33bd562-4572-49f5-b6b6-3d4d4bce5fba\n",
       "\u001b[1;31mLength:\u001b[0m      42\n",
       "\u001b[1;31mDocstring:\u001b[0m  \n",
       "str(object='') -> str\n",
       "str(bytes_or_buffer[, encoding[, errors]]) -> str\n",
       "\n",
       "Create a new string object from the given object. If encoding or\n",
       "errors is specified, then the object must expose a data buffer\n",
       "that will be decoded using the given encoding and error handler.\n",
       "Otherwise, returns the result of object.__str__() (if defined)\n",
       "or repr(object).\n",
       "encoding defaults to sys.getdefaultencoding().\n",
       "errors defaults to 'strict'."
      ]
     },
     "metadata": {},
     "output_type": "display_data"
    }
   ],
   "source": [
    "https://ap.api.riotgames.com/val/content/v1/contents?api_key?"
   ]
  },
  {
   "cell_type": "code",
   "execution_count": 17,
   "id": "c7e1091a-fd3b-4a09-badb-dab479959f10",
   "metadata": {},
   "outputs": [],
   "source": [
    "api_url= \"https://valorant-api.com/v1/agents\""
   ]
  },
  {
   "cell_type": "code",
   "execution_count": 8,
   "id": "6af6891a-616d-49c9-bfe8-0259087d476c",
   "metadata": {},
   "outputs": [],
   "source": [
    "import requests"
   ]
  },
  {
   "cell_type": "code",
   "execution_count": 18,
   "id": "fbccd3b1-8114-4f80-832e-3ea3c6e5b3b3",
   "metadata": {},
   "outputs": [
    {
     "data": {
      "text/plain": [
       "<Response [200]>"
      ]
     },
     "execution_count": 18,
     "metadata": {},
     "output_type": "execute_result"
    }
   ],
   "source": [
    "requests.get(api_url)"
   ]
  },
  {
   "cell_type": "code",
   "execution_count": 14,
   "id": "cc2afb64-729f-46a2-9ca7-7b8435aeb516",
   "metadata": {},
   "outputs": [],
   "source": [
    "api_url = api_url + '?api_key=' + api_key"
   ]
  },
  {
   "cell_type": "code",
   "execution_count": 16,
   "id": "36e4c27e-f4c2-4e07-b825-3645d40bc9f6",
   "metadata": {},
   "outputs": [
    {
     "data": {
      "text/plain": [
       "<Response [401]>"
      ]
     },
     "execution_count": 16,
     "metadata": {},
     "output_type": "execute_result"
    }
   ],
   "source": [
    "requests.get(api_url)"
   ]
  },
  {
   "cell_type": "code",
   "execution_count": null,
   "id": "4a6b400f-2285-4686-8bab-960a222b40ee",
   "metadata": {},
   "outputs": [],
   "source": []
  }
 ],
 "metadata": {
  "kernelspec": {
   "display_name": "Python 3 (ipykernel)",
   "language": "python",
   "name": "python3"
  },
  "language_info": {
   "codemirror_mode": {
    "name": "ipython",
    "version": 3
   },
   "file_extension": ".py",
   "mimetype": "text/x-python",
   "name": "python",
   "nbconvert_exporter": "python",
   "pygments_lexer": "ipython3",
   "version": "3.12.0"
  }
 },
 "nbformat": 4,
 "nbformat_minor": 5
}
